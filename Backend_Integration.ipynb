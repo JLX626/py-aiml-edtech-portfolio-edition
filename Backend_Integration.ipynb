{
 "cells": [
  {
   "cell_type": "code",
   "execution_count": null,
   "metadata": {},
   "outputs": [],
   "source": [
    "from ipynb.fs.full.Classes_Definitions import SLTechUser, SLTechLearner, SLTechInstructor, SLTechCourse, SLTechEnrollment\n",
    "\n",
    "class SLTechBackend:\n",
    "    \"\"\"Class representing the backend system for managing users, courses, and enrollments.\n",
    "\n",
    "    Attributes:\n",
    "        users (list): List of SLTechUser objects.\n",
    "        courses (list): List of SLTechCourse objects.\n",
    "        enrollments (list): List of SLTechEnrollment objects.\n",
    "    \"\"\"\n",
    "\n",
    "    def __init__(self):\n",
    "        \"\"\"Initialize the SLTechBackend with empty lists for users, courses, and enrollments.\"\"\"\n",
    "        self.users = []\n",
    "        self.courses = []\n",
    "        self.enrollments = []\n",
    "\n",
    "    def add_user(self, user: SLTechUser) -> None:\n",
    "        \"\"\"Add a user to the backend system.\n",
    "\n",
    "        Args:\n",
    "            user (SLTechUser): The user to add.\n",
    "        \"\"\"\n",
    "        self.users.append(user)\n",
    "\n",
    "    def add_course(self, course: SLTechCourse) -> None:\n",
    "        \"\"\"Add a course to the backend system.\n",
    "\n",
    "        Args:\n",
    "            course (SLTechCourse): The course to add.\n",
    "        \"\"\"\n",
    "        self.courses.append(course)\n",
    "\n",
    "    def add_enrollment(self, enrollment: SLTechEnrollment) -> None:\n",
    "        \"\"\"Add an enrollment to the backend system.\n",
    "\n",
    "        Args:\n",
    "            enrollment (SLTechEnrollment): The enrollment to add.\n",
    "        \"\"\"\n",
    "        self.enrollments.append(enrollment)\n",
    "\n",
    "    def get_enrolled_learners(self, course_id: str) -> list:\n",
    "        \"\"\"Get a list of learner IDs enrolled in a course.\n",
    "\n",
    "        Args:\n",
    "            course_id (str): The ID of the course.\n",
    "\n",
    "        Returns:\n",
    "            list: List of learner IDs enrolled in the course.\n",
    "        \"\"\"\n",
    "        return [enrollment.learner_id for enrollment in self.enrollments if enrollment.course_id == course_id]\n",
    "\n",
    "    def get_enrolled_courses(self, learner_id: int) -> list:\n",
    "        \"\"\"Get a list of course IDs a learner is enrolled in.\n",
    "\n",
    "        Args:\n",
    "            learner_id (int): The ID of the learner.\n",
    "\n",
    "        Returns:\n",
    "            list: List of course IDs the learner is enrolled in.\n",
    "        \"\"\"\n",
    "        return [enrollment.course_id for enrollment in self.enrollments if enrollment.learner_id == learner_id]\n"
   ]
  },
  {
   "cell_type": "raw",
   "metadata": {
    "vscode": {
     "languageId": "raw"
    }
   },
   "source": [
    "# Testing SLTechBackend class\n",
    "backend = SLTechBackend()\n",
    "\n",
    "# Adding users\n",
    "user1 = SLTechUser(1, 'Jason Lampitt', 'jason@mydomain.edu', 'password123')\n",
    "learner1 = SLTechLearner(2, 'Tori Piscitelli', 'tori@mydomain.edu', 'password456')\n",
    "instructor1 = SLTechInstructor(3, 'Dr. Ann Piscitelli', 'ann@mydomain.edu', 'password789')\n",
    "backend.add_user(user1)\n",
    "backend.add_user(learner1)\n",
    "backend.add_user(instructor1)\n",
    "\n",
    "# Adding courses\n",
    "course1 = SLTechCourse('CS301', 'Machine Learning', 3)\n",
    "backend.add_course(course1)\n",
    "\n",
    "# Adding enrollments\n",
    "enrollment1 = SLTechEnrollment(1, 'CS301', 2)\n",
    "backend.add_enrollment(enrollment1)\n",
    "\n",
    "# Retrieve enrolled learners for a course\n",
    "print(backend.get_enrolled_learners('CS301'))  # Should print: [2]\n",
    "\n",
    "# Retrieve enrolled courses for a learner\n",
    "print(backend.get_enrolled_courses(2))  # Should print: ['CS301']\n"
   ]
  }
 ],
 "metadata": {
  "kernelspec": {
   "display_name": "Python 3 (ipykernel)",
   "language": "python",
   "name": "python3"
  },
  "language_info": {
   "codemirror_mode": {
    "name": "ipython",
    "version": 3
   },
   "file_extension": ".py",
   "mimetype": "text/x-python",
   "name": "python",
   "nbconvert_exporter": "python",
   "pygments_lexer": "ipython3",
   "version": "3.8.19"
  }
 },
 "nbformat": 4,
 "nbformat_minor": 4
}
