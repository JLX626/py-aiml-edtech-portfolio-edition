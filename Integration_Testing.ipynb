{
 "cells": [
  {
   "cell_type": "code",
   "execution_count": 1,
   "metadata": {},
   "outputs": [
    {
     "name": "stdout",
     "output_type": "stream",
     "text": [
      "Test Case 1: Add and Retrieve Users\n",
      "Users: ['Jason Lampitt', 'Tori Piscitelli', 'Dr. Ann Piscitelli']\n",
      "Test Case 2: Add and Retrieve Courses\n",
      "Courses: ['Data Science', 'AI Ethics']\n",
      "Test Case 3: Add and Retrieve Enrollments\n",
      "Enrolled courses for learner ID 5: ['CS401', 'CS402']\n"
     ]
    }
   ],
   "source": [
    "# Import necessary classes from Classes_Definitions.ipynb\n",
    "from ipynb.fs.full.Classes_Definitions import SLTechUser, SLTechLearner, SLTechInstructor, SLTechCourse, SLTechEnrollment\n",
    "\n",
    "# Import the SLTechBackend class from Backend_Integration.ipynb\n",
    "from ipynb.fs.full.Backend_Integration import SLTechBackend\n",
    "\n",
    "# Import user input handling functions from User_Input_Handling.ipynb\n",
    "from ipynb.fs.full.User_Input_Handling import add_user, add_course, manage_enrollments\n",
    "\n",
    "# Initialize the backend system\n",
    "backend = SLTechBackend()\n",
    "\n",
    "# Test Case 1: Add and Retrieve Users\n",
    "def test_add_and_retrieve_users():\n",
    "    print(\"Test Case 1: Add and Retrieve Users\")\n",
    "    backend.add_user(SLTechUser(4, 'Jason Lampitt', 'jason@mydomain.edu', 'password321'))\n",
    "    backend.add_user(SLTechLearner(5, 'Tori Piscitelli', 'tori@mydomain.edu', 'password654'))\n",
    "    backend.add_user(SLTechInstructor(6, 'Dr. Ann Piscitelli', 'ann@mydomain.edu', 'password987'))\n",
    "    users = [user.name for user in backend.users]\n",
    "    print(\"Users:\", users)\n",
    "    assert 'Jason Lampitt' in users\n",
    "    assert 'Tori Piscitelli' in users\n",
    "    assert 'Dr. Ann Piscitelli' in users\n",
    "\n",
    "# Test Case 2: Add and Retrieve Courses\n",
    "def test_add_and_retrieve_courses():\n",
    "    print(\"Test Case 2: Add and Retrieve Courses\")\n",
    "    backend.add_course(SLTechCourse('CS401', 'Data Science', 6))\n",
    "    backend.add_course(SLTechCourse('CS402', 'AI Ethics', 6))\n",
    "    courses = [course.course_name for course in backend.courses]\n",
    "    print(\"Courses:\", courses)\n",
    "    assert 'Data Science' in courses\n",
    "    assert 'AI Ethics' in courses\n",
    "\n",
    "# Test Case 3: Add and Retrieve Enrollments\n",
    "def test_add_and_retrieve_enrollments():\n",
    "    print(\"Test Case 3: Add and Retrieve Enrollments\")\n",
    "    backend.add_enrollment(SLTechEnrollment(2, 'CS401', 5))\n",
    "    backend.add_enrollment(SLTechEnrollment(3, 'CS402', 5))\n",
    "    enrolled_courses = backend.get_enrolled_courses(5)\n",
    "    print(\"Enrolled courses for learner ID 5:\", enrolled_courses)\n",
    "    assert 'CS401' in enrolled_courses\n",
    "    assert 'CS402' in enrolled_courses\n",
    "\n",
    "# Run all test cases\n",
    "test_add_and_retrieve_users()\n",
    "test_add_and_retrieve_courses()\n",
    "test_add_and_retrieve_enrollments()\n"
   ]
  }
 ],
 "metadata": {
  "kernelspec": {
   "display_name": "Python 3 (ipykernel)",
   "language": "python",
   "name": "python3"
  },
  "language_info": {
   "codemirror_mode": {
    "name": "ipython",
    "version": 3
   },
   "file_extension": ".py",
   "mimetype": "text/x-python",
   "name": "python",
   "nbconvert_exporter": "python",
   "pygments_lexer": "ipython3",
   "version": "3.8.19"
  }
 },
 "nbformat": 4,
 "nbformat_minor": 4
}
